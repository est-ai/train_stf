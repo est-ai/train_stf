{
 "cells": [
  {
   "cell_type": "code",
   "execution_count": 3,
   "metadata": {},
   "outputs": [
    {
     "name": "stdout",
     "output_type": "stream",
     "text": [
      "402\n",
      "/home/kts123/aia/pwb/preprocess_PWB/preprocessed_pwb_2/09_#2_thursday_03.05_30_000\n",
      "/home/kts123/aia/pwb/preprocess_PWB/preprocessed_pwb_2/16_#2_thursday_05.00_30_000\n"
     ]
    },
    {
     "data": {
      "text/plain": [
       "(401, 1)"
      ]
     },
     "execution_count": 3,
     "metadata": {},
     "output_type": "execute_result"
    }
   ],
   "source": [
    "# 훈련 데이터 준비\n",
    "import pandas as pd\n",
    "from glob import glob\n",
    "from pathlib import Path\n",
    "from tqdm.auto import tqdm\n",
    "import random\n",
    "import shutil\n",
    "import os\n",
    "\n",
    "clips = glob('/home/kts123/aia/pwb/preprocess_PWB/preprocessed_pwb_2/*/*.pickle')\n",
    "print(len(clips))\n",
    "clips = [Path(e).parent for e in clips]\n",
    "random.shuffle(clips)\n",
    "clip_val = clips[:1]\n",
    "clip_train = list(set(clips) - set(clip_val))\n",
    "print(clip_train[0])\n",
    "print(clip_val[0])\n",
    "len(clip_train), len(clip_val)"
   ]
  },
  {
   "cell_type": "code",
   "execution_count": 4,
   "metadata": {},
   "outputs": [],
   "source": [
    "# data_root 폴더를 삭제하고 다시 만든다\n",
    "shutil.rmtree('data_root', ignore_errors=True)\n",
    "Path('data_root/train').mkdir(parents=True)\n",
    "Path('data_root/val').mkdir(parents=True)"
   ]
  },
  {
   "cell_type": "code",
   "execution_count": 5,
   "metadata": {},
   "outputs": [
    {
     "data": {
      "application/vnd.jupyter.widget-view+json": {
       "model_id": "c4e008c6779c470d93939c03111e5d32",
       "version_major": 2,
       "version_minor": 0
      },
      "text/plain": [
       "HBox(children=(FloatProgress(value=0.0, max=401.0), HTML(value='')))"
      ]
     },
     "metadata": {},
     "output_type": "display_data"
    },
    {
     "name": "stdout",
     "output_type": "stream",
     "text": [
      "\n"
     ]
    },
    {
     "data": {
      "application/vnd.jupyter.widget-view+json": {
       "model_id": "d648709c82594627b85710cc95bf9685",
       "version_major": 2,
       "version_minor": 0
      },
      "text/plain": [
       "HBox(children=(FloatProgress(value=0.0, max=1.0), HTML(value='')))"
      ]
     },
     "metadata": {},
     "output_type": "display_data"
    },
    {
     "name": "stdout",
     "output_type": "stream",
     "text": [
      "\n"
     ]
    }
   ],
   "source": [
    "# link 걸기\n",
    "def make_link(base, targets):\n",
    "    for target in tqdm(targets):\n",
    "        link = f'{base}/{Path(target).name}'\n",
    "        cmd = f'ln -s \"{target}\" \"{link}\"'\n",
    "        !$cmd\n",
    "        \n",
    "make_link('data_root/train',  clip_train)\n",
    "make_link('data_root/val',    clip_val)"
   ]
  },
  {
   "cell_type": "code",
   "execution_count": 6,
   "metadata": {},
   "outputs": [
    {
     "data": {
      "application/vnd.jupyter.widget-view+json": {
       "model_id": "77e26c8f4edb4fcc9c02094fee30941a",
       "version_major": 2,
       "version_minor": 0
      },
      "text/plain": [
       "  0%|          | 0/394 [00:00<?, ?it/s]"
      ]
     },
     "metadata": {},
     "output_type": "display_data"
    }
   ],
   "source": [
    "# fps 정보 저장(preprocess 에서 사연이 있어서 제대로 못 적은 경우 실행)\n",
    "#!pip install imageio\n",
    "#!pip install imageio-ffmpeg\n",
    "mp4s = [e/'df_fan.pickle' for e in clips]\n",
    "\n",
    "import imageio\n",
    "for mp4 in tqdm(mp4s):\n",
    "    fps= 30\n",
    "    with open(mp4.parent/'fps.txt', 'w') as f:\n",
    "        f.write(f'{fps:.2f}')"
   ]
  },
  {
   "cell_type": "code",
   "execution_count": 4,
   "metadata": {},
   "outputs": [
    {
     "data": {
      "application/vnd.jupyter.widget-view+json": {
       "model_id": "5eb79f2f932f4cdeb5255b5aa8d5e294",
       "version_major": 2,
       "version_minor": 0
      },
      "text/plain": [
       "HBox(children=(FloatProgress(value=0.0, max=401.0), HTML(value='')))"
      ]
     },
     "metadata": {},
     "output_type": "display_data"
    },
    {
     "name": "stdout",
     "output_type": "stream",
     "text": [
      "\n"
     ]
    }
   ],
   "source": [
    "# split 문제때문에 _no.jpg 로 바꿈\n",
    "import os\n",
    "from glob import glob\n",
    "from tqdm.auto import tqdm\n",
    "\n",
    "def rename_no(jpgs):\n",
    "    for e in jpgs:\n",
    "        no = e.replace('_yes.jpg', '_no.jpg') \n",
    "        os.rename(e, no)\n",
    "        \n",
    "clips = sorted(glob('data_root/train/*'))\n",
    "\n",
    "\n",
    "# split 문제때문에 안전하게 start/end 12 프레임은 _no.jpg 로 바꿈\n",
    "for e in tqdm(clips):\n",
    "    jpgs = sorted(glob(f'{e}/*.jpg'))\n",
    "    rename_no(jpgs[:12])\n",
    "    rename_no(jpgs[-12:])"
   ]
  },
  {
   "cell_type": "code",
   "execution_count": 15,
   "metadata": {},
   "outputs": [
    {
     "name": "stdout",
     "output_type": "stream",
     "text": [
      "Automatic pdb calling has been turned ON\n"
     ]
    },
    {
     "data": {
      "application/vnd.jupyter.widget-view+json": {
       "model_id": "2e095e7b37c74f7886c44c5b3da783f4",
       "version_major": 2,
       "version_minor": 0
      },
      "text/plain": [
       "HBox(children=(FloatProgress(value=0.0, max=401.0), HTML(value='')))"
      ]
     },
     "metadata": {},
     "output_type": "display_data"
    },
    {
     "name": "stdout",
     "output_type": "stream",
     "text": [
      "\n"
     ]
    }
   ],
   "source": [
    "#split 문제 때문에 start/end 에서 움직임이 없는 프레임은 _no.jpg 로 바꿈\n",
    "%pdb on\n",
    "import cv2\n",
    "import IPython.display as ipd\n",
    "def rename_same(jpgs):\n",
    "    prev = cv2.imread(jpgs[0])\n",
    "    jpgs = jpgs[1:]\n",
    "    same = []\n",
    "    for e in jpgs:\n",
    "        cur = cv2.imread(e)\n",
    "        if not (prev == cur).all():\n",
    "            break\n",
    "        same.append(e)\n",
    "    if len(same):\n",
    "        same.append(jpgs[0])\n",
    "    rename_no(same)\n",
    "    return len(same)\n",
    "        \n",
    "    \n",
    "sames = []\n",
    "for e in tqdm(clips):\n",
    "    jpgs = sorted(glob(f'{e}/*.jpg'))\n",
    "    num_same_start = rename_same(jpgs)\n",
    "    num_same_end = rename_same(jpgs[::-1])\n",
    "    if 0 < num_same_start + num_same_end:\n",
    "        sames.append([f'start:{num_same_start}, end:{num_same_end}', e])"
   ]
  },
  {
   "cell_type": "code",
   "execution_count": 16,
   "metadata": {},
   "outputs": [
    {
     "data": {
      "text/plain": [
       "[['start:25, end:0', 'data_root/train/01_#1_thursday_02.00_30_000'],\n",
       " ['start:26, end:0', 'data_root/train/01_#1_thursday_02.01_00_000'],\n",
       " ['start:25, end:0', 'data_root/train/01_#2_thursday_02.00_30_000'],\n",
       " ['start:26, end:0', 'data_root/train/01_#2_thursday_02.01_00_000'],\n",
       " ['start:25, end:0', 'data_root/train/02_#1_thursday_01.00_30_000'],\n",
       " ['start:25, end:0', 'data_root/train/02_#2_thursday_01.00_30_000'],\n",
       " ['start:26, end:0', 'data_root/train/02_#2_thursday_01.01_00_000'],\n",
       " ['start:27, end:0', 'data_root/train/02_#2_thursday_01.01_30_000'],\n",
       " ['start:27, end:0', 'data_root/train/02_#2_thursday_01.02_00_000'],\n",
       " ['start:28, end:0', 'data_root/train/02_#2_thursday_01.02_30_000'],\n",
       " ['start:25, end:0', 'data_root/train/03_#1_thursday_01.00_30_000'],\n",
       " ['start:25, end:0', 'data_root/train/03_#2_thursday_01.00_30_000'],\n",
       " ['start:26, end:0', 'data_root/train/03_#2_thursday_01.01_00_000'],\n",
       " ['start:27, end:0', 'data_root/train/03_#2_thursday_01.01_30_000'],\n",
       " ['start:25, end:0', 'data_root/train/04_#1_thursday_01.00_30_000'],\n",
       " ['start:25, end:0', 'data_root/train/04_#1_thursday_02.00_30_000'],\n",
       " ['start:26, end:0', 'data_root/train/04_#1_thursday_02.01_00_000'],\n",
       " ['start:25, end:0', 'data_root/train/04_#1_thursday_03.00_30_000'],\n",
       " ['start:25, end:0', 'data_root/train/04_#1_thursday_04.00_30_000'],\n",
       " ['start:26, end:0', 'data_root/train/04_#1_thursday_04.01_00_000'],\n",
       " ['start:27, end:0', 'data_root/train/04_#1_thursday_04.01_30_000'],\n",
       " ['start:27, end:0', 'data_root/train/04_#1_thursday_04.02_00_000'],\n",
       " ['start:25, end:0', 'data_root/train/04_#2_thursday_01.00_30_000'],\n",
       " ['start:25, end:0', 'data_root/train/04_#2_thursday_02.00_30_000'],\n",
       " ['start:26, end:0', 'data_root/train/04_#2_thursday_02.01_00_000'],\n",
       " ['start:25, end:0', 'data_root/train/04_#2_thursday_03.00_30_000'],\n",
       " ['start:25, end:0', 'data_root/train/04_#2_thursday_04.00_30_000'],\n",
       " ['start:26, end:0', 'data_root/train/04_#2_thursday_04.01_00_000'],\n",
       " ['start:27, end:0', 'data_root/train/04_#2_thursday_04.01_30_000'],\n",
       " ['start:27, end:0', 'data_root/train/04_#2_thursday_04.02_00_000'],\n",
       " ['start:25, end:0', 'data_root/train/06_#1_thursday_02.00_30_000'],\n",
       " ['start:26, end:0', 'data_root/train/06_#1_thursday_02.01_00_000'],\n",
       " ['start:25, end:0', 'data_root/train/06_#1_thursday_05.00_30_000'],\n",
       " ['start:25, end:0', 'data_root/train/06_#1_thursday_06.00_30_000'],\n",
       " ['start:25, end:0', 'data_root/train/06_#1_thursday_07.00_30_000'],\n",
       " ['start:25, end:0', 'data_root/train/06_#2_thursday_02.00_30_000'],\n",
       " ['start:26, end:0', 'data_root/train/06_#2_thursday_02.01_00_000'],\n",
       " ['start:25, end:0', 'data_root/train/06_#2_thursday_05.00_30_000'],\n",
       " ['start:25, end:0', 'data_root/train/06_#2_thursday_06.00_30_000'],\n",
       " ['start:25, end:0', 'data_root/train/06_#2_thursday_07.00_30_000'],\n",
       " ['start:25, end:0', 'data_root/train/07_#1_thursday_03.00_30_000'],\n",
       " ['start:26, end:0', 'data_root/train/07_#1_thursday_03.01_00_000'],\n",
       " ['start:27, end:0', 'data_root/train/07_#1_thursday_03.01_30_000'],\n",
       " ['start:27, end:0', 'data_root/train/07_#1_thursday_03.02_00_000'],\n",
       " ['start:28, end:0', 'data_root/train/07_#1_thursday_03.02_30_000'],\n",
       " ['start:29, end:0', 'data_root/train/07_#1_thursday_03.03_00_000'],\n",
       " ['start:30, end:0', 'data_root/train/07_#1_thursday_03.03_30_000'],\n",
       " ['start:30, end:0', 'data_root/train/07_#1_thursday_03.04_00_000'],\n",
       " ['start:31, end:0', 'data_root/train/07_#1_thursday_03.04_30_000'],\n",
       " ['start:32, end:0', 'data_root/train/07_#1_thursday_03.05_00_000'],\n",
       " ['start:33, end:0', 'data_root/train/07_#1_thursday_03.05_30_000'],\n",
       " ['start:25, end:0', 'data_root/train/07_#2_thursday_03.00_30_000'],\n",
       " ['start:26, end:0', 'data_root/train/07_#2_thursday_03.01_00_000'],\n",
       " ['start:27, end:0', 'data_root/train/07_#2_thursday_03.01_30_000'],\n",
       " ['start:27, end:0', 'data_root/train/07_#2_thursday_03.02_00_000'],\n",
       " ['start:28, end:0', 'data_root/train/07_#2_thursday_03.02_30_000'],\n",
       " ['start:29, end:0', 'data_root/train/07_#2_thursday_03.03_00_000'],\n",
       " ['start:30, end:0', 'data_root/train/07_#2_thursday_03.03_30_000'],\n",
       " ['start:30, end:0', 'data_root/train/07_#2_thursday_03.04_00_000'],\n",
       " ['start:31, end:0', 'data_root/train/07_#2_thursday_03.04_30_000'],\n",
       " ['start:32, end:0', 'data_root/train/07_#2_thursday_03.05_00_000'],\n",
       " ['start:33, end:0', 'data_root/train/07_#2_thursday_03.05_30_000'],\n",
       " ['start:25, end:0', 'data_root/train/08_#1_thursday_01.00_30_000'],\n",
       " ['start:25, end:0', 'data_root/train/08_#1_thursday_02.00_30_000'],\n",
       " ['start:26, end:0', 'data_root/train/08_#1_thursday_02.01_00_000'],\n",
       " ['start:25, end:0', 'data_root/train/08_#1_thursday_03.00_30_000'],\n",
       " ['start:26, end:0', 'data_root/train/08_#1_thursday_03.01_00_000'],\n",
       " ['start:27, end:0', 'data_root/train/08_#1_thursday_03.01_30_000'],\n",
       " ['start:27, end:0', 'data_root/train/08_#1_thursday_03.02_00_000'],\n",
       " ['start:28, end:0', 'data_root/train/08_#1_thursday_03.02_30_000'],\n",
       " ['start:29, end:0', 'data_root/train/08_#1_thursday_03.03_00_000'],\n",
       " ['start:30, end:0', 'data_root/train/08_#1_thursday_03.03_30_000'],\n",
       " ['start:30, end:0', 'data_root/train/08_#1_thursday_03.04_00_000'],\n",
       " ['start:31, end:0', 'data_root/train/08_#1_thursday_03.04_30_000'],\n",
       " ['start:32, end:0', 'data_root/train/08_#1_thursday_03.05_00_000'],\n",
       " ['start:33, end:0', 'data_root/train/08_#1_thursday_03.05_30_000'],\n",
       " ['start:25, end:0', 'data_root/train/08_#2_thursday_01.00_30_000'],\n",
       " ['start:25, end:0', 'data_root/train/08_#2_thursday_02.00_30_000'],\n",
       " ['start:26, end:0', 'data_root/train/08_#2_thursday_02.01_00_000'],\n",
       " ['start:25, end:0', 'data_root/train/08_#2_thursday_03.00_30_000'],\n",
       " ['start:26, end:0', 'data_root/train/08_#2_thursday_03.01_00_000'],\n",
       " ['start:27, end:0', 'data_root/train/08_#2_thursday_03.01_30_000'],\n",
       " ['start:27, end:0', 'data_root/train/08_#2_thursday_03.02_00_000'],\n",
       " ['start:28, end:0', 'data_root/train/08_#2_thursday_03.02_30_000'],\n",
       " ['start:29, end:0', 'data_root/train/08_#2_thursday_03.03_00_000'],\n",
       " ['start:30, end:0', 'data_root/train/08_#2_thursday_03.03_30_000'],\n",
       " ['start:30, end:0', 'data_root/train/08_#2_thursday_03.04_00_000'],\n",
       " ['start:31, end:0', 'data_root/train/08_#2_thursday_03.04_30_000'],\n",
       " ['start:32, end:0', 'data_root/train/08_#2_thursday_03.05_00_000'],\n",
       " ['start:33, end:0', 'data_root/train/08_#2_thursday_03.05_30_000'],\n",
       " ['start:25, end:0', 'data_root/train/09_#1_thursday_03.00_30_000'],\n",
       " ['start:26, end:0', 'data_root/train/09_#1_thursday_03.01_00_000'],\n",
       " ['start:27, end:0', 'data_root/train/09_#1_thursday_03.01_30_000'],\n",
       " ['start:27, end:0', 'data_root/train/09_#1_thursday_03.02_00_000'],\n",
       " ['start:28, end:0', 'data_root/train/09_#1_thursday_03.02_30_000'],\n",
       " ['start:29, end:0', 'data_root/train/09_#1_thursday_03.03_00_000'],\n",
       " ['start:30, end:0', 'data_root/train/09_#1_thursday_03.03_30_000'],\n",
       " ['start:30, end:0', 'data_root/train/09_#1_thursday_03.04_00_000'],\n",
       " ['start:31, end:0', 'data_root/train/09_#1_thursday_03.04_30_000'],\n",
       " ['start:32, end:0', 'data_root/train/09_#1_thursday_03.05_00_000'],\n",
       " ['start:33, end:0', 'data_root/train/09_#1_thursday_03.05_30_000'],\n",
       " ['start:25, end:0', 'data_root/train/09_#1_thursday_04.00_30_000'],\n",
       " ['start:25, end:0', 'data_root/train/09_#2_thursday_03.00_30_000'],\n",
       " ['start:26, end:0', 'data_root/train/09_#2_thursday_03.01_00_000'],\n",
       " ['start:27, end:0', 'data_root/train/09_#2_thursday_03.01_30_000'],\n",
       " ['start:27, end:0', 'data_root/train/09_#2_thursday_03.02_00_000'],\n",
       " ['start:28, end:0', 'data_root/train/09_#2_thursday_03.02_30_000'],\n",
       " ['start:29, end:0', 'data_root/train/09_#2_thursday_03.03_00_000'],\n",
       " ['start:30, end:0', 'data_root/train/09_#2_thursday_03.03_30_000'],\n",
       " ['start:30, end:0', 'data_root/train/09_#2_thursday_03.04_00_000'],\n",
       " ['start:31, end:0', 'data_root/train/09_#2_thursday_03.04_30_000'],\n",
       " ['start:32, end:0', 'data_root/train/09_#2_thursday_03.05_00_000'],\n",
       " ['start:33, end:0', 'data_root/train/09_#2_thursday_03.05_30_000'],\n",
       " ['start:25, end:0', 'data_root/train/09_#2_thursday_04.00_30_000'],\n",
       " ['start:25, end:0', 'data_root/train/10_#1_thursday_01.00_30_000'],\n",
       " ['start:26, end:0', 'data_root/train/10_#1_thursday_01.01_00_000'],\n",
       " ['start:27, end:0', 'data_root/train/10_#1_thursday_01.01_30_000'],\n",
       " ['start:25, end:0', 'data_root/train/10_#1_thursday_05.00_30_000'],\n",
       " ['start:25, end:0', 'data_root/train/10_#1_thursday_07.00_30_000'],\n",
       " ['start:26, end:0', 'data_root/train/10_#1_thursday_07.01_00_000'],\n",
       " ['start:27, end:0', 'data_root/train/10_#1_thursday_07.01_30_000'],\n",
       " ['start:27, end:0', 'data_root/train/10_#1_thursday_07.02_00_000'],\n",
       " ['start:25, end:0', 'data_root/train/10_#1_thursday_08.00_30_000'],\n",
       " ['start:25, end:0', 'data_root/train/10_#2_thursday_01.00_30_000'],\n",
       " ['start:26, end:0', 'data_root/train/10_#2_thursday_01.01_00_000'],\n",
       " ['start:27, end:0', 'data_root/train/10_#2_thursday_01.01_30_000'],\n",
       " ['start:25, end:0', 'data_root/train/10_#2_thursday_05.00_30_000'],\n",
       " ['start:25, end:0', 'data_root/train/10_#2_thursday_07.00_30_000'],\n",
       " ['start:26, end:0', 'data_root/train/10_#2_thursday_07.01_00_000'],\n",
       " ['start:27, end:0', 'data_root/train/10_#2_thursday_07.01_30_000'],\n",
       " ['start:27, end:0', 'data_root/train/10_#2_thursday_07.02_00_000'],\n",
       " ['start:25, end:0', 'data_root/train/10_#2_thursday_08.00_30_000'],\n",
       " ['start:25, end:0', 'data_root/train/11_#1_thursday_01.00_30_000'],\n",
       " ['start:26, end:0', 'data_root/train/11_#1_thursday_01.01_00_000'],\n",
       " ['start:27, end:0', 'data_root/train/11_#1_thursday_01.01_30_000'],\n",
       " ['start:25, end:0', 'data_root/train/11_#1_thursday_07.00_30_000'],\n",
       " ['start:26, end:0', 'data_root/train/11_#1_thursday_07.01_00_000'],\n",
       " ['start:27, end:0', 'data_root/train/11_#1_thursday_07.01_30_000'],\n",
       " ['start:27, end:0', 'data_root/train/11_#1_thursday_07.02_00_000'],\n",
       " ['start:28, end:0', 'data_root/train/11_#1_thursday_07.02_30_000'],\n",
       " ['start:29, end:0', 'data_root/train/11_#1_thursday_07.03_00_000'],\n",
       " ['start:30, end:0', 'data_root/train/11_#1_thursday_07.03_30_000'],\n",
       " ['start:30, end:0', 'data_root/train/11_#1_thursday_07.04_00_000'],\n",
       " ['start:31, end:0', 'data_root/train/11_#1_thursday_07.04_30_000'],\n",
       " ['start:25, end:0', 'data_root/train/11_#2_thursday_01.00_30_000'],\n",
       " ['start:26, end:0', 'data_root/train/11_#2_thursday_01.01_00_000'],\n",
       " ['start:27, end:0', 'data_root/train/11_#2_thursday_01.01_30_000'],\n",
       " ['start:25, end:0', 'data_root/train/11_#2_thursday_07.00_30_000'],\n",
       " ['start:26, end:0', 'data_root/train/11_#2_thursday_07.01_00_000'],\n",
       " ['start:27, end:0', 'data_root/train/11_#2_thursday_07.01_30_000'],\n",
       " ['start:27, end:0', 'data_root/train/11_#2_thursday_07.02_00_000'],\n",
       " ['start:28, end:0', 'data_root/train/11_#2_thursday_07.02_30_000'],\n",
       " ['start:29, end:0', 'data_root/train/11_#2_thursday_07.03_00_000'],\n",
       " ['start:30, end:0', 'data_root/train/11_#2_thursday_07.03_30_000'],\n",
       " ['start:30, end:0', 'data_root/train/11_#2_thursday_07.04_00_000'],\n",
       " ['start:31, end:0', 'data_root/train/11_#2_thursday_07.04_30_000'],\n",
       " ['start:25, end:0', 'data_root/train/12_#1_thursday_01.00_30_000'],\n",
       " ['start:25, end:0', 'data_root/train/12_#1_thursday_02.00_30_000'],\n",
       " ['start:26, end:0', 'data_root/train/12_#1_thursday_02.01_00_000'],\n",
       " ['start:27, end:0', 'data_root/train/12_#1_thursday_02.01_30_000'],\n",
       " ['start:27, end:0', 'data_root/train/12_#1_thursday_02.02_00_000'],\n",
       " ['start:28, end:0', 'data_root/train/12_#1_thursday_02.02_30_000'],\n",
       " ['start:29, end:0', 'data_root/train/12_#1_thursday_02.03_00_000'],\n",
       " ['start:25, end:0', 'data_root/train/12_#1_thursday_05.00_30_000'],\n",
       " ['start:26, end:0', 'data_root/train/12_#1_thursday_05.01_00_000'],\n",
       " ['start:0, end:2', 'data_root/train/12_#1_thursday_06.00_00_000'],\n",
       " ['start:25, end:0', 'data_root/train/12_#2_thursday_01.00_30_000'],\n",
       " ['start:25, end:0', 'data_root/train/12_#2_thursday_02.00_30_000'],\n",
       " ['start:26, end:0', 'data_root/train/12_#2_thursday_02.01_00_000'],\n",
       " ['start:27, end:0', 'data_root/train/12_#2_thursday_02.01_30_000'],\n",
       " ['start:27, end:0', 'data_root/train/12_#2_thursday_02.02_00_000'],\n",
       " ['start:28, end:0', 'data_root/train/12_#2_thursday_02.02_30_000'],\n",
       " ['start:29, end:0', 'data_root/train/12_#2_thursday_02.03_00_000'],\n",
       " ['start:25, end:0', 'data_root/train/12_#2_thursday_05.00_30_000'],\n",
       " ['start:26, end:0', 'data_root/train/12_#2_thursday_05.01_00_000'],\n",
       " ['start:0, end:2', 'data_root/train/12_#2_thursday_06.00_00_000'],\n",
       " ['start:25, end:0', 'data_root/train/13_#1_thursday_01.00_30_000'],\n",
       " ['start:25, end:0', 'data_root/train/13_#1_thursday_02.00_30_000'],\n",
       " ['start:25, end:0', 'data_root/train/13_#1_thursday_03.00_30_000'],\n",
       " ['start:26, end:0', 'data_root/train/13_#1_thursday_03.01_00_000'],\n",
       " ['start:27, end:0', 'data_root/train/13_#1_thursday_03.01_30_000'],\n",
       " ['start:25, end:0', 'data_root/train/13_#1_thursday_04.00_30_000'],\n",
       " ['start:25, end:0', 'data_root/train/13_#2_thursday_01.00_30_000'],\n",
       " ['start:25, end:0', 'data_root/train/13_#2_thursday_02.00_30_000'],\n",
       " ['start:25, end:0', 'data_root/train/13_#2_thursday_03.00_30_000'],\n",
       " ['start:26, end:0', 'data_root/train/13_#2_thursday_03.01_00_000'],\n",
       " ['start:27, end:0', 'data_root/train/13_#2_thursday_03.01_30_000'],\n",
       " ['start:25, end:0', 'data_root/train/13_#2_thursday_04.00_30_000'],\n",
       " ['start:0, end:2', 'data_root/train/13_#2_thursday_07.00_00_000'],\n",
       " ['start:25, end:0', 'data_root/train/14_#1_thursday_04.00_30_000'],\n",
       " ['start:25, end:0', 'data_root/train/14_#2_thursday_04.00_30_000'],\n",
       " ['start:25, end:0', 'data_root/train/15_#1_thursday_01.00_30_000'],\n",
       " ['start:26, end:0', 'data_root/train/15_#1_thursday_01.01_00_000'],\n",
       " ['start:27, end:0', 'data_root/train/15_#1_thursday_01.01_30_000'],\n",
       " ['start:27, end:0', 'data_root/train/15_#1_thursday_01.02_00_000'],\n",
       " ['start:28, end:0', 'data_root/train/15_#1_thursday_01.02_30_000'],\n",
       " ['start:25, end:0', 'data_root/train/15_#1_thursday_05.00_30_000'],\n",
       " ['start:25, end:0', 'data_root/train/15_#2_thursday_01.00_30_000'],\n",
       " ['start:26, end:0', 'data_root/train/15_#2_thursday_01.01_00_000'],\n",
       " ['start:27, end:0', 'data_root/train/15_#2_thursday_01.01_30_000'],\n",
       " ['start:27, end:0', 'data_root/train/15_#2_thursday_01.02_00_000'],\n",
       " ['start:28, end:0', 'data_root/train/15_#2_thursday_01.02_30_000'],\n",
       " ['start:25, end:0', 'data_root/train/15_#2_thursday_05.00_30_000'],\n",
       " ['start:25, end:0', 'data_root/train/16_#1_thursday_01.00_30_000'],\n",
       " ['start:26, end:0', 'data_root/train/16_#1_thursday_01.01_00_000'],\n",
       " ['start:25, end:0', 'data_root/train/16_#1_thursday_02.00_30_000'],\n",
       " ['start:26, end:0', 'data_root/train/16_#1_thursday_02.01_00_000'],\n",
       " ['start:27, end:0', 'data_root/train/16_#1_thursday_02.01_30_000'],\n",
       " ['start:25, end:0', 'data_root/train/16_#1_thursday_04.00_30_000'],\n",
       " ['start:25, end:0', 'data_root/train/16_#1_thursday_05.00_30_000'],\n",
       " ['start:25, end:0', 'data_root/train/16_#2_thursday_001.00_30_000'],\n",
       " ['start:26, end:0', 'data_root/train/16_#2_thursday_001.01_00_000'],\n",
       " ['start:25, end:0', 'data_root/train/16_#2_thursday_002.00_30_000'],\n",
       " ['start:26, end:0', 'data_root/train/16_#2_thursday_002.01_00_000'],\n",
       " ['start:27, end:0', 'data_root/train/16_#2_thursday_002.01_30_000'],\n",
       " ['start:25, end:0', 'data_root/train/16_#2_thursday_04.00_30_000'],\n",
       " ['start:25, end:0', 'data_root/train/17_#1_thursday_02.00_30_000'],\n",
       " ['start:26, end:0', 'data_root/train/17_#1_thursday_02.01_00_000'],\n",
       " ['start:25, end:0', 'data_root/train/17_#1_thursday_06.00_30_000'],\n",
       " ['start:25, end:0', 'data_root/train/17_#2_thursday_02.00_30_000'],\n",
       " ['start:26, end:0', 'data_root/train/17_#2_thursday_02.01_00_000'],\n",
       " ['start:25, end:0', 'data_root/train/17_#2_thursday_06.00_30_000'],\n",
       " ['start:25, end:0', 'data_root/train/18_#1_thursday_01.00_30_000'],\n",
       " ['start:26, end:0', 'data_root/train/18_#1_thursday_01.01_00_000'],\n",
       " ['start:25, end:0', 'data_root/train/18_#1_thursday_06.00_30_000'],\n",
       " ['start:26, end:0', 'data_root/train/18_#1_thursday_06.01_00_000'],\n",
       " ['start:27, end:0', 'data_root/train/18_#1_thursday_06.01_30_000'],\n",
       " ['start:27, end:0', 'data_root/train/18_#1_thursday_06.02_00_000'],\n",
       " ['start:25, end:0', 'data_root/train/18_#1_thursday_07.00_30_000'],\n",
       " ['start:25, end:0', 'data_root/train/18_#1_thursday_08.00_30_000'],\n",
       " ['start:25, end:0', 'data_root/train/18_#2_thursday_01.00_30_000'],\n",
       " ['start:26, end:0', 'data_root/train/18_#2_thursday_01.01_00_000'],\n",
       " ['start:25, end:0', 'data_root/train/18_#2_thursday_06.00_30_000'],\n",
       " ['start:26, end:0', 'data_root/train/18_#2_thursday_06.01_00_000'],\n",
       " ['start:27, end:0', 'data_root/train/18_#2_thursday_06.01_30_000'],\n",
       " ['start:27, end:0', 'data_root/train/18_#2_thursday_06.02_00_000'],\n",
       " ['start:25, end:0', 'data_root/train/18_#2_thursday_07.00_30_000'],\n",
       " ['start:25, end:0', 'data_root/train/18_#2_thursday_08.00_30_000']]"
      ]
     },
     "execution_count": 16,
     "metadata": {},
     "output_type": "execute_result"
    }
   ],
   "source": [
    "sames"
   ]
  },
  {
   "cell_type": "code",
   "execution_count": null,
   "metadata": {},
   "outputs": [],
   "source": []
  }
 ],
 "metadata": {
  "kernelspec": {
   "display_name": "Python [conda env:s2f]",
   "language": "python",
   "name": "conda-env-s2f-py"
  },
  "language_info": {
   "codemirror_mode": {
    "name": "ipython",
    "version": 3
   },
   "file_extension": ".py",
   "mimetype": "text/x-python",
   "name": "python",
   "nbconvert_exporter": "python",
   "pygments_lexer": "ipython3",
   "version": "3.7.9"
  },
  "widgets": {
   "application/vnd.jupyter.widget-state+json": {
    "state": {
     "04645066b94642a786d5903458b2bc66": {
      "model_module": "@jupyter-widgets/controls",
      "model_module_version": "1.5.0",
      "model_name": "DescriptionStyleModel",
      "state": {
       "description_width": ""
      }
     },
     "04cb0ae9e9ec4a16876947f0ac20918c": {
      "model_module": "@jupyter-widgets/base",
      "model_module_version": "1.2.0",
      "model_name": "LayoutModel",
      "state": {}
     },
     "064aebd4a242484a83ec17c7b391cfc3": {
      "model_module": "@jupyter-widgets/base",
      "model_module_version": "1.2.0",
      "model_name": "LayoutModel",
      "state": {}
     },
     "0706a66132b9423f94e7e1040772de31": {
      "model_module": "@jupyter-widgets/base",
      "model_module_version": "1.2.0",
      "model_name": "LayoutModel",
      "state": {}
     },
     "082a6ca61f0d4fc6858ee61dfe5fddf6": {
      "model_module": "@jupyter-widgets/base",
      "model_module_version": "1.2.0",
      "model_name": "LayoutModel",
      "state": {}
     },
     "0b03c2cf02d84f0297c687257ef41176": {
      "model_module": "@jupyter-widgets/controls",
      "model_module_version": "1.5.0",
      "model_name": "DescriptionStyleModel",
      "state": {
       "description_width": ""
      }
     },
     "0e8589d42a2d4b42a52bba3691972d03": {
      "model_module": "@jupyter-widgets/controls",
      "model_module_version": "1.5.0",
      "model_name": "FloatProgressModel",
      "state": {
       "bar_style": "success",
       "layout": "IPY_MODEL_6dcf1e51beaa428b943bd43ceddb3c5c",
       "max": 393,
       "style": "IPY_MODEL_cae5ed4c5e2f4b649da1f9b7583f43b6",
       "value": 393
      }
     },
     "0eb1ec9e68044563b5523477d02b2cb7": {
      "model_module": "@jupyter-widgets/controls",
      "model_module_version": "1.5.0",
      "model_name": "HBoxModel",
      "state": {
       "children": [
        "IPY_MODEL_569a320d01424cbba3fc20e8def36f84",
        "IPY_MODEL_348791862d234b7cb39e4a9af0123dca",
        "IPY_MODEL_59876f33f2b142ff8c3dffdac2293dcd"
       ],
       "layout": "IPY_MODEL_d73df44d19b9466984e750e4d59f910a"
      }
     },
     "1508b1073aa1451084bb9b7f3c72670e": {
      "model_module": "@jupyter-widgets/controls",
      "model_module_version": "1.5.0",
      "model_name": "ProgressStyleModel",
      "state": {
       "description_width": ""
      }
     },
     "159e20a3244648b6b234441b556863e7": {
      "model_module": "@jupyter-widgets/base",
      "model_module_version": "1.2.0",
      "model_name": "LayoutModel",
      "state": {}
     },
     "181af472c12b4304b4a4642edb5edeca": {
      "model_module": "@jupyter-widgets/base",
      "model_module_version": "1.2.0",
      "model_name": "LayoutModel",
      "state": {}
     },
     "1898bfc4200e49deb7072d03a7813ed3": {
      "model_module": "@jupyter-widgets/controls",
      "model_module_version": "1.5.0",
      "model_name": "HTMLModel",
      "state": {
       "layout": "IPY_MODEL_560a1c6d8ede4717a64de6368ad3aa1e",
       "style": "IPY_MODEL_9679aa06a33048b0976faa9b6272844e",
       "value": " 10/10 [00:01&lt;00:00,  8.28it/s]"
      }
     },
     "1ae26197c9af4ce7abb27427b7ff3dbb": {
      "model_module": "@jupyter-widgets/controls",
      "model_module_version": "1.5.0",
      "model_name": "DescriptionStyleModel",
      "state": {
       "description_width": ""
      }
     },
     "1b1af3ce8b444cafad8dd11a9cc440fe": {
      "model_module": "@jupyter-widgets/controls",
      "model_module_version": "1.5.0",
      "model_name": "HBoxModel",
      "state": {
       "children": [
        "IPY_MODEL_5b3c2867393444a2864db4aaca55a83a",
        "IPY_MODEL_da9d051e533f45d2a1f92cd06d3d4f37",
        "IPY_MODEL_603135e4713842cbb66cd896217d16f7"
       ],
       "layout": "IPY_MODEL_159e20a3244648b6b234441b556863e7"
      }
     },
     "1bc269a19aa44f23a549b20cadfd4476": {
      "model_module": "@jupyter-widgets/controls",
      "model_module_version": "1.5.0",
      "model_name": "FloatProgressModel",
      "state": {
       "bar_style": "success",
       "layout": "IPY_MODEL_35722ff91158405cac679cdf2f2052e1",
       "max": 40,
       "style": "IPY_MODEL_f834054384304850a1486fe04fcef090",
       "value": 40
      }
     },
     "1cff954d92e64c02b45abb3f344b5214": {
      "model_module": "@jupyter-widgets/controls",
      "model_module_version": "1.5.0",
      "model_name": "HTMLModel",
      "state": {
       "layout": "IPY_MODEL_c3edc16239a64c47888c08f0db2c85ff",
       "style": "IPY_MODEL_04645066b94642a786d5903458b2bc66",
       "value": "100%"
      }
     },
     "2008cf8286c14266b16f319e6dc50982": {
      "model_module": "@jupyter-widgets/controls",
      "model_module_version": "1.5.0",
      "model_name": "HBoxModel",
      "state": {
       "children": [
        "IPY_MODEL_a368fda4e0d34eccbc69bf22c2055984",
        "IPY_MODEL_a5bac6a8d41f493d9fcd4c60857ab82d",
        "IPY_MODEL_9ee13ad2fb5e45a589acbe9119265e40"
       ],
       "layout": "IPY_MODEL_0706a66132b9423f94e7e1040772de31"
      }
     },
     "2448a9ca44c247e3a5f0078bc3fe165c": {
      "model_module": "@jupyter-widgets/base",
      "model_module_version": "1.2.0",
      "model_name": "LayoutModel",
      "state": {}
     },
     "297735db784b49449f803c6b187de3b2": {
      "model_module": "@jupyter-widgets/controls",
      "model_module_version": "1.5.0",
      "model_name": "HTMLModel",
      "state": {
       "layout": "IPY_MODEL_87161b431c8c4216a5265155e226c90f",
       "style": "IPY_MODEL_0b03c2cf02d84f0297c687257ef41176",
       "value": " 393/393 [00:46&lt;00:00,  8.32it/s]"
      }
     },
     "29c233c8fe2d455e825b85e7e3a25fe1": {
      "model_module": "@jupyter-widgets/controls",
      "model_module_version": "1.5.0",
      "model_name": "DescriptionStyleModel",
      "state": {
       "description_width": ""
      }
     },
     "2bc053fc290c432c84a350efcafa0fcb": {
      "model_module": "@jupyter-widgets/base",
      "model_module_version": "1.2.0",
      "model_name": "LayoutModel",
      "state": {}
     },
     "2cca9e6d742a4145a63daa68611e2342": {
      "model_module": "@jupyter-widgets/controls",
      "model_module_version": "1.5.0",
      "model_name": "HTMLModel",
      "state": {
       "layout": "IPY_MODEL_32a0bd7269a740a7a3873b96a8c6d367",
       "style": "IPY_MODEL_779f7fb26ceb4994855df0616d5d44cd",
       "value": "100%"
      }
     },
     "2eb7e59586584f8cb2bd11ef7f06b667": {
      "model_module": "@jupyter-widgets/controls",
      "model_module_version": "1.5.0",
      "model_name": "ProgressStyleModel",
      "state": {
       "description_width": ""
      }
     },
     "30dbbf2f38cd4c3aafd13efac0ea16ba": {
      "model_module": "@jupyter-widgets/base",
      "model_module_version": "1.2.0",
      "model_name": "LayoutModel",
      "state": {}
     },
     "32a0bd7269a740a7a3873b96a8c6d367": {
      "model_module": "@jupyter-widgets/base",
      "model_module_version": "1.2.0",
      "model_name": "LayoutModel",
      "state": {}
     },
     "32fe20c519c44ef29cf405e584fc18eb": {
      "model_module": "@jupyter-widgets/controls",
      "model_module_version": "1.5.0",
      "model_name": "DescriptionStyleModel",
      "state": {
       "description_width": ""
      }
     },
     "335b3cdc01e44478b00f4cced05608e8": {
      "model_module": "@jupyter-widgets/controls",
      "model_module_version": "1.5.0",
      "model_name": "HBoxModel",
      "state": {
       "children": [
        "IPY_MODEL_aae9536ce10e45669473bc9e3f784efc",
        "IPY_MODEL_b9973984306c4ac08cc571cb42443807",
        "IPY_MODEL_d6cde6cd066c481bb011a13fcd7966a9"
       ],
       "layout": "IPY_MODEL_b24fa83bb090476bbf2c64dd9b35c81b"
      }
     },
     "344eceeb2d8142408efb9bdeee4e6658": {
      "model_module": "@jupyter-widgets/base",
      "model_module_version": "1.2.0",
      "model_name": "LayoutModel",
      "state": {}
     },
     "348791862d234b7cb39e4a9af0123dca": {
      "model_module": "@jupyter-widgets/controls",
      "model_module_version": "1.5.0",
      "model_name": "FloatProgressModel",
      "state": {
       "bar_style": "success",
       "layout": "IPY_MODEL_a9211a141bd14d298902bb3f31dfffcf",
       "max": 10,
       "style": "IPY_MODEL_b9eea30bbe4647a887c35be48b86ccff",
       "value": 10
      }
     },
     "3540eb39f9a8423bb302b46b8d58a2d8": {
      "model_module": "@jupyter-widgets/base",
      "model_module_version": "1.2.0",
      "model_name": "LayoutModel",
      "state": {}
     },
     "35722ff91158405cac679cdf2f2052e1": {
      "model_module": "@jupyter-widgets/base",
      "model_module_version": "1.2.0",
      "model_name": "LayoutModel",
      "state": {}
     },
     "40fba3dea07e4aeeaa5f637ff5dc74a4": {
      "model_module": "@jupyter-widgets/controls",
      "model_module_version": "1.5.0",
      "model_name": "DescriptionStyleModel",
      "state": {
       "description_width": ""
      }
     },
     "4307b1f47d51499ab5690402127cbc54": {
      "model_module": "@jupyter-widgets/base",
      "model_module_version": "1.2.0",
      "model_name": "LayoutModel",
      "state": {}
     },
     "46789c446e8e45e1b225853a2fbfec06": {
      "model_module": "@jupyter-widgets/controls",
      "model_module_version": "1.5.0",
      "model_name": "HBoxModel",
      "state": {
       "children": [
        "IPY_MODEL_7315ab64d1e44b3d93352cd36c7879a3",
        "IPY_MODEL_1bc269a19aa44f23a549b20cadfd4476",
        "IPY_MODEL_f46dbfcbf0024f49bf1579d8a11e0f85"
       ],
       "layout": "IPY_MODEL_b972af335e3f4ee2a94b8415bda9cdf9"
      }
     },
     "467d31976de842b89ed70099275ecb89": {
      "model_module": "@jupyter-widgets/controls",
      "model_module_version": "1.5.0",
      "model_name": "ProgressStyleModel",
      "state": {
       "description_width": ""
      }
     },
     "46fa60a507b14eeea797ce2873a43e15": {
      "model_module": "@jupyter-widgets/controls",
      "model_module_version": "1.5.0",
      "model_name": "HBoxModel",
      "state": {
       "children": [
        "IPY_MODEL_5a3f33fd69704256a4a69c2bc344e4f9",
        "IPY_MODEL_0e8589d42a2d4b42a52bba3691972d03",
        "IPY_MODEL_297735db784b49449f803c6b187de3b2"
       ],
       "layout": "IPY_MODEL_181af472c12b4304b4a4642edb5edeca"
      }
     },
     "4a65f2cbe4264b629f06ba868354a0c8": {
      "model_module": "@jupyter-widgets/controls",
      "model_module_version": "1.5.0",
      "model_name": "HBoxModel",
      "state": {
       "children": [
        "IPY_MODEL_4e4d8679f49d4dbfae9df860207778dc",
        "IPY_MODEL_fd94fd8192a2431caf636ea423f26fa7",
        "IPY_MODEL_8294ecca0c234550b16c8844f1a8bf41"
       ],
       "layout": "IPY_MODEL_b8a93eb6f1c74bb2bc3e949f9b2e9a0f"
      }
     },
     "4b8a118953d9493f893400edc803cc90": {
      "model_module": "@jupyter-widgets/base",
      "model_module_version": "1.2.0",
      "model_name": "LayoutModel",
      "state": {}
     },
     "4ba443f41d3e4742873fa0aabd0b9cff": {
      "model_module": "@jupyter-widgets/controls",
      "model_module_version": "1.5.0",
      "model_name": "FloatProgressModel",
      "state": {
       "bar_style": "success",
       "layout": "IPY_MODEL_2bc053fc290c432c84a350efcafa0fcb",
       "max": 423,
       "style": "IPY_MODEL_c8bca55a07e34d34831625b3b22bcd93",
       "value": 423
      }
     },
     "4e4d8679f49d4dbfae9df860207778dc": {
      "model_module": "@jupyter-widgets/controls",
      "model_module_version": "1.5.0",
      "model_name": "HTMLModel",
      "state": {
       "layout": "IPY_MODEL_082a6ca61f0d4fc6858ee61dfe5fddf6",
       "style": "IPY_MODEL_1ae26197c9af4ce7abb27427b7ff3dbb",
       "value": "100%"
      }
     },
     "51280d2ab70c4220837f92429b1b1809": {
      "model_module": "@jupyter-widgets/controls",
      "model_module_version": "1.5.0",
      "model_name": "HTMLModel",
      "state": {
       "layout": "IPY_MODEL_a8fce869cf164a89a5b70f10e08ce1ea",
       "style": "IPY_MODEL_f788ca274ec446d0aa5e1e6a2e08c361",
       "value": " 10/10 [00:01&lt;00:00,  8.23it/s]"
      }
     },
     "51763cae48ac4d93bb04eb25b9bc134c": {
      "model_module": "@jupyter-widgets/controls",
      "model_module_version": "1.5.0",
      "model_name": "FloatProgressModel",
      "state": {
       "bar_style": "success",
       "layout": "IPY_MODEL_bd9296e662644d83baae84be55345ed5",
       "max": 423,
       "style": "IPY_MODEL_467d31976de842b89ed70099275ecb89",
       "value": 423
      }
     },
     "524be83309594519b10e291e1a2f9773": {
      "model_module": "@jupyter-widgets/base",
      "model_module_version": "1.2.0",
      "model_name": "LayoutModel",
      "state": {}
     },
     "55a50f05be0744b0a91e8a53fcaa0e9e": {
      "model_module": "@jupyter-widgets/controls",
      "model_module_version": "1.5.0",
      "model_name": "HTMLModel",
      "state": {
       "layout": "IPY_MODEL_064aebd4a242484a83ec17c7b391cfc3",
       "style": "IPY_MODEL_d5515dfa863643afbcf3bc63262c4138",
       "value": "100%"
      }
     },
     "560a1c6d8ede4717a64de6368ad3aa1e": {
      "model_module": "@jupyter-widgets/base",
      "model_module_version": "1.2.0",
      "model_name": "LayoutModel",
      "state": {}
     },
     "569a320d01424cbba3fc20e8def36f84": {
      "model_module": "@jupyter-widgets/controls",
      "model_module_version": "1.5.0",
      "model_name": "HTMLModel",
      "state": {
       "layout": "IPY_MODEL_d4713d87238a4ca2b42456efa5e266c8",
       "style": "IPY_MODEL_7e97712fb46a48c893642636026ab0a8",
       "value": "100%"
      }
     },
     "59876f33f2b142ff8c3dffdac2293dcd": {
      "model_module": "@jupyter-widgets/controls",
      "model_module_version": "1.5.0",
      "model_name": "HTMLModel",
      "state": {
       "layout": "IPY_MODEL_524be83309594519b10e291e1a2f9773",
       "style": "IPY_MODEL_b82e543805bb43ef8d0210f0f1de7993",
       "value": " 10/10 [00:01&lt;00:00,  8.10it/s]"
      }
     },
     "5a3f33fd69704256a4a69c2bc344e4f9": {
      "model_module": "@jupyter-widgets/controls",
      "model_module_version": "1.5.0",
      "model_name": "HTMLModel",
      "state": {
       "layout": "IPY_MODEL_ba330a670f7d4dcb9220f147c5033640",
       "style": "IPY_MODEL_d4efeea181e44c2c88ab888eb354cc86",
       "value": "100%"
      }
     },
     "5b3c2867393444a2864db4aaca55a83a": {
      "model_module": "@jupyter-widgets/controls",
      "model_module_version": "1.5.0",
      "model_name": "HTMLModel",
      "state": {
       "layout": "IPY_MODEL_a0ebc211f225460daf13738baa7a2d3e",
       "style": "IPY_MODEL_90c0e41aaf5b4a8c95e07ffd0e4aa82b",
       "value": "100%"
      }
     },
     "5c658d5aca6a481a81425e9749ca3bd1": {
      "model_module": "@jupyter-widgets/base",
      "model_module_version": "1.2.0",
      "model_name": "LayoutModel",
      "state": {}
     },
     "5d84a3e3b3ed46588aef53c454a1a1f2": {
      "model_module": "@jupyter-widgets/base",
      "model_module_version": "1.2.0",
      "model_name": "LayoutModel",
      "state": {}
     },
     "603135e4713842cbb66cd896217d16f7": {
      "model_module": "@jupyter-widgets/controls",
      "model_module_version": "1.5.0",
      "model_name": "HTMLModel",
      "state": {
       "layout": "IPY_MODEL_4307b1f47d51499ab5690402127cbc54",
       "style": "IPY_MODEL_840a1088f03d4c028689641f8efce752",
       "value": " 425/425 [00:50&lt;00:00,  8.51it/s]"
      }
     },
     "66fb4df7cf754c29938bab430662ef26": {
      "model_module": "@jupyter-widgets/controls",
      "model_module_version": "1.5.0",
      "model_name": "DescriptionStyleModel",
      "state": {
       "description_width": ""
      }
     },
     "692b46417e5348568bb164e23b7fe83d": {
      "model_module": "@jupyter-widgets/base",
      "model_module_version": "1.2.0",
      "model_name": "LayoutModel",
      "state": {}
     },
     "6a17f2fc05434711934bbb06d092fe6f": {
      "model_module": "@jupyter-widgets/controls",
      "model_module_version": "1.5.0",
      "model_name": "HTMLModel",
      "state": {
       "layout": "IPY_MODEL_b266e04fa4d9425aa8b6e7d074a1d489",
       "style": "IPY_MODEL_f29cc64665964729a54c9f413bbf6353",
       "value": " 423/423 [00:50&lt;00:00,  8.50it/s]"
      }
     },
     "6b9944753dbc40b0ac586fb4596ac1d9": {
      "model_module": "@jupyter-widgets/controls",
      "model_module_version": "1.5.0",
      "model_name": "ProgressStyleModel",
      "state": {
       "description_width": ""
      }
     },
     "6c70fd7d79fa4df083367aa1908759e5": {
      "model_module": "@jupyter-widgets/base",
      "model_module_version": "1.2.0",
      "model_name": "LayoutModel",
      "state": {}
     },
     "6cd455183b80434f9d60de4cf75c1bc0": {
      "model_module": "@jupyter-widgets/base",
      "model_module_version": "1.2.0",
      "model_name": "LayoutModel",
      "state": {}
     },
     "6dcf1e51beaa428b943bd43ceddb3c5c": {
      "model_module": "@jupyter-widgets/base",
      "model_module_version": "1.2.0",
      "model_name": "LayoutModel",
      "state": {}
     },
     "700f9799e4d4408ab4241667c8efd9fb": {
      "model_module": "@jupyter-widgets/controls",
      "model_module_version": "1.5.0",
      "model_name": "HBoxModel",
      "state": {
       "children": [
        "IPY_MODEL_2cca9e6d742a4145a63daa68611e2342",
        "IPY_MODEL_51763cae48ac4d93bb04eb25b9bc134c",
        "IPY_MODEL_a04253c92f0848449d36b34b0017b75f"
       ],
       "layout": "IPY_MODEL_2448a9ca44c247e3a5f0078bc3fe165c"
      }
     },
     "717d4654b06746f3a8cf4c9d22e36579": {
      "model_module": "@jupyter-widgets/controls",
      "model_module_version": "1.5.0",
      "model_name": "ProgressStyleModel",
      "state": {
       "description_width": ""
      }
     },
     "7315ab64d1e44b3d93352cd36c7879a3": {
      "model_module": "@jupyter-widgets/controls",
      "model_module_version": "1.5.0",
      "model_name": "HTMLModel",
      "state": {
       "layout": "IPY_MODEL_ac4228fda0bc41fc8f21dfbc0dbbd5a2",
       "style": "IPY_MODEL_e9b44f3d02ab429395bb415b2c0648a4",
       "value": "100%"
      }
     },
     "741d82367fb34f55b2b06ab31b9e2b13": {
      "model_module": "@jupyter-widgets/controls",
      "model_module_version": "1.5.0",
      "model_name": "ProgressStyleModel",
      "state": {
       "description_width": ""
      }
     },
     "754544df12c6426a81918d766ac8135c": {
      "model_module": "@jupyter-widgets/controls",
      "model_module_version": "1.5.0",
      "model_name": "HTMLModel",
      "state": {
       "layout": "IPY_MODEL_5c658d5aca6a481a81425e9749ca3bd1",
       "style": "IPY_MODEL_75db2d6aecb146fdbe02b60c8519d85c",
       "value": "100%"
      }
     },
     "75db2d6aecb146fdbe02b60c8519d85c": {
      "model_module": "@jupyter-widgets/controls",
      "model_module_version": "1.5.0",
      "model_name": "DescriptionStyleModel",
      "state": {
       "description_width": ""
      }
     },
     "76adf6a081304725b995bcb477353d78": {
      "model_module": "@jupyter-widgets/controls",
      "model_module_version": "1.5.0",
      "model_name": "HBoxModel",
      "state": {
       "children": [
        "IPY_MODEL_1cff954d92e64c02b45abb3f344b5214",
        "IPY_MODEL_f6edf6d5c99945dbaed7f543c6121337",
        "IPY_MODEL_1898bfc4200e49deb7072d03a7813ed3"
       ],
       "layout": "IPY_MODEL_30dbbf2f38cd4c3aafd13efac0ea16ba"
      }
     },
     "771a75adadae4c4087eb1250c42630db": {
      "model_module": "@jupyter-widgets/controls",
      "model_module_version": "1.5.0",
      "model_name": "FloatProgressModel",
      "state": {
       "bar_style": "success",
       "layout": "IPY_MODEL_c8e8e67b95f34f7a934b644123bdc334",
       "max": 10,
       "style": "IPY_MODEL_741d82367fb34f55b2b06ab31b9e2b13",
       "value": 10
      }
     },
     "779f7fb26ceb4994855df0616d5d44cd": {
      "model_module": "@jupyter-widgets/controls",
      "model_module_version": "1.5.0",
      "model_name": "DescriptionStyleModel",
      "state": {
       "description_width": ""
      }
     },
     "7965de68e40241b9a7062a438ea950a1": {
      "model_module": "@jupyter-widgets/base",
      "model_module_version": "1.2.0",
      "model_name": "LayoutModel",
      "state": {}
     },
     "7c4c0aea6c5d4c19baec9b49caa66448": {
      "model_module": "@jupyter-widgets/controls",
      "model_module_version": "1.5.0",
      "model_name": "DescriptionStyleModel",
      "state": {
       "description_width": ""
      }
     },
     "7e97712fb46a48c893642636026ab0a8": {
      "model_module": "@jupyter-widgets/controls",
      "model_module_version": "1.5.0",
      "model_name": "DescriptionStyleModel",
      "state": {
       "description_width": ""
      }
     },
     "810c8354f74245c5831f6a8f516b1202": {
      "model_module": "@jupyter-widgets/controls",
      "model_module_version": "1.5.0",
      "model_name": "HBoxModel",
      "state": {
       "children": [
        "IPY_MODEL_754544df12c6426a81918d766ac8135c",
        "IPY_MODEL_4ba443f41d3e4742873fa0aabd0b9cff",
        "IPY_MODEL_6a17f2fc05434711934bbb06d092fe6f"
       ],
       "layout": "IPY_MODEL_04cb0ae9e9ec4a16876947f0ac20918c"
      }
     },
     "8294ecca0c234550b16c8844f1a8bf41": {
      "model_module": "@jupyter-widgets/controls",
      "model_module_version": "1.5.0",
      "model_name": "HTMLModel",
      "state": {
       "layout": "IPY_MODEL_f3b2f70d3b2b4a99be2ef7776de584fe",
       "style": "IPY_MODEL_66fb4df7cf754c29938bab430662ef26",
       "value": " 8/8 [00:00&lt;00:00,  8.43it/s]"
      }
     },
     "83f9aa50f8504d95a78595cdf9aa4c03": {
      "model_module": "@jupyter-widgets/base",
      "model_module_version": "1.2.0",
      "model_name": "LayoutModel",
      "state": {}
     },
     "840a1088f03d4c028689641f8efce752": {
      "model_module": "@jupyter-widgets/controls",
      "model_module_version": "1.5.0",
      "model_name": "DescriptionStyleModel",
      "state": {
       "description_width": ""
      }
     },
     "87161b431c8c4216a5265155e226c90f": {
      "model_module": "@jupyter-widgets/base",
      "model_module_version": "1.2.0",
      "model_name": "LayoutModel",
      "state": {}
     },
     "883bc378e65b4f3fb1645208021251cc": {
      "model_module": "@jupyter-widgets/controls",
      "model_module_version": "1.5.0",
      "model_name": "ProgressStyleModel",
      "state": {
       "description_width": ""
      }
     },
     "90c0e41aaf5b4a8c95e07ffd0e4aa82b": {
      "model_module": "@jupyter-widgets/controls",
      "model_module_version": "1.5.0",
      "model_name": "DescriptionStyleModel",
      "state": {
       "description_width": ""
      }
     },
     "93ddf965455345809f3f9bed04d5715f": {
      "model_module": "@jupyter-widgets/base",
      "model_module_version": "1.2.0",
      "model_name": "LayoutModel",
      "state": {}
     },
     "944caa2767a4482dab5e92521b0e438d": {
      "model_module": "@jupyter-widgets/base",
      "model_module_version": "1.2.0",
      "model_name": "LayoutModel",
      "state": {}
     },
     "952deecfc75b414fb7b69d2916d6b5ff": {
      "model_module": "@jupyter-widgets/controls",
      "model_module_version": "1.5.0",
      "model_name": "HTMLModel",
      "state": {
       "layout": "IPY_MODEL_6cd455183b80434f9d60de4cf75c1bc0",
       "style": "IPY_MODEL_c45b9195ac174b5fb51170931ecd4452",
       "value": "100%"
      }
     },
     "9679aa06a33048b0976faa9b6272844e": {
      "model_module": "@jupyter-widgets/controls",
      "model_module_version": "1.5.0",
      "model_name": "DescriptionStyleModel",
      "state": {
       "description_width": ""
      }
     },
     "9aea6dcbf0e94cc3886a7e5523fa4fdf": {
      "model_module": "@jupyter-widgets/controls",
      "model_module_version": "1.5.0",
      "model_name": "HBoxModel",
      "state": {
       "children": [
        "IPY_MODEL_55a50f05be0744b0a91e8a53fcaa0e9e",
        "IPY_MODEL_771a75adadae4c4087eb1250c42630db",
        "IPY_MODEL_51280d2ab70c4220837f92429b1b1809"
       ],
       "layout": "IPY_MODEL_c46e8553aaa44c1d96b6ec60e0aa7abe"
      }
     },
     "9ba740e786f24e73a93c671750817d49": {
      "model_module": "@jupyter-widgets/base",
      "model_module_version": "1.2.0",
      "model_name": "LayoutModel",
      "state": {}
     },
     "9ee13ad2fb5e45a589acbe9119265e40": {
      "model_module": "@jupyter-widgets/controls",
      "model_module_version": "1.5.0",
      "model_name": "HTMLModel",
      "state": {
       "layout": "IPY_MODEL_5d84a3e3b3ed46588aef53c454a1a1f2",
       "style": "IPY_MODEL_7c4c0aea6c5d4c19baec9b49caa66448",
       "value": " 40/40 [00:04&lt;00:00,  8.39it/s]"
      }
     },
     "a04253c92f0848449d36b34b0017b75f": {
      "model_module": "@jupyter-widgets/controls",
      "model_module_version": "1.5.0",
      "model_name": "HTMLModel",
      "state": {
       "layout": "IPY_MODEL_3540eb39f9a8423bb302b46b8d58a2d8",
       "style": "IPY_MODEL_aeeb5b214e284761b985ea7ac4afb7e8",
       "value": " 423/423 [00:50&lt;00:00,  8.49it/s]"
      }
     },
     "a0ebc211f225460daf13738baa7a2d3e": {
      "model_module": "@jupyter-widgets/base",
      "model_module_version": "1.2.0",
      "model_name": "LayoutModel",
      "state": {}
     },
     "a368fda4e0d34eccbc69bf22c2055984": {
      "model_module": "@jupyter-widgets/controls",
      "model_module_version": "1.5.0",
      "model_name": "HTMLModel",
      "state": {
       "layout": "IPY_MODEL_6c70fd7d79fa4df083367aa1908759e5",
       "style": "IPY_MODEL_29c233c8fe2d455e825b85e7e3a25fe1",
       "value": "100%"
      }
     },
     "a5bac6a8d41f493d9fcd4c60857ab82d": {
      "model_module": "@jupyter-widgets/controls",
      "model_module_version": "1.5.0",
      "model_name": "FloatProgressModel",
      "state": {
       "bar_style": "success",
       "layout": "IPY_MODEL_944caa2767a4482dab5e92521b0e438d",
       "max": 40,
       "style": "IPY_MODEL_883bc378e65b4f3fb1645208021251cc",
       "value": 40
      }
     },
     "a8fce869cf164a89a5b70f10e08ce1ea": {
      "model_module": "@jupyter-widgets/base",
      "model_module_version": "1.2.0",
      "model_name": "LayoutModel",
      "state": {}
     },
     "a9211a141bd14d298902bb3f31dfffcf": {
      "model_module": "@jupyter-widgets/base",
      "model_module_version": "1.2.0",
      "model_name": "LayoutModel",
      "state": {}
     },
     "a9a064a9263649e1aceadc8604241a8e": {
      "model_module": "@jupyter-widgets/controls",
      "model_module_version": "1.5.0",
      "model_name": "HTMLModel",
      "state": {
       "layout": "IPY_MODEL_b83ebb044ce544889a692fb595882720",
       "style": "IPY_MODEL_f7f42283509640238bc9d52e4199561c",
       "value": " 393/393 [00:46&lt;00:00,  8.47it/s]"
      }
     },
     "aae9536ce10e45669473bc9e3f784efc": {
      "model_module": "@jupyter-widgets/controls",
      "model_module_version": "1.5.0",
      "model_name": "HTMLModel",
      "state": {
       "layout": "IPY_MODEL_c878c7232a1a4917912883e8e2e743f9",
       "style": "IPY_MODEL_d0710899f53841cea06a650a98dd53f9",
       "value": "100%"
      }
     },
     "ac4228fda0bc41fc8f21dfbc0dbbd5a2": {
      "model_module": "@jupyter-widgets/base",
      "model_module_version": "1.2.0",
      "model_name": "LayoutModel",
      "state": {}
     },
     "aeeb5b214e284761b985ea7ac4afb7e8": {
      "model_module": "@jupyter-widgets/controls",
      "model_module_version": "1.5.0",
      "model_name": "DescriptionStyleModel",
      "state": {
       "description_width": ""
      }
     },
     "b24fa83bb090476bbf2c64dd9b35c81b": {
      "model_module": "@jupyter-widgets/base",
      "model_module_version": "1.2.0",
      "model_name": "LayoutModel",
      "state": {}
     },
     "b266e04fa4d9425aa8b6e7d074a1d489": {
      "model_module": "@jupyter-widgets/base",
      "model_module_version": "1.2.0",
      "model_name": "LayoutModel",
      "state": {}
     },
     "b82e543805bb43ef8d0210f0f1de7993": {
      "model_module": "@jupyter-widgets/controls",
      "model_module_version": "1.5.0",
      "model_name": "DescriptionStyleModel",
      "state": {
       "description_width": ""
      }
     },
     "b83ebb044ce544889a692fb595882720": {
      "model_module": "@jupyter-widgets/base",
      "model_module_version": "1.2.0",
      "model_name": "LayoutModel",
      "state": {}
     },
     "b8a93eb6f1c74bb2bc3e949f9b2e9a0f": {
      "model_module": "@jupyter-widgets/base",
      "model_module_version": "1.2.0",
      "model_name": "LayoutModel",
      "state": {}
     },
     "b972af335e3f4ee2a94b8415bda9cdf9": {
      "model_module": "@jupyter-widgets/base",
      "model_module_version": "1.2.0",
      "model_name": "LayoutModel",
      "state": {}
     },
     "b9820c9eede64170ab9a2c81467f2e93": {
      "model_module": "@jupyter-widgets/controls",
      "model_module_version": "1.5.0",
      "model_name": "FloatProgressModel",
      "state": {
       "bar_style": "success",
       "layout": "IPY_MODEL_7965de68e40241b9a7062a438ea950a1",
       "max": 393,
       "style": "IPY_MODEL_1508b1073aa1451084bb9b7f3c72670e",
       "value": 393
      }
     },
     "b9973984306c4ac08cc571cb42443807": {
      "model_module": "@jupyter-widgets/controls",
      "model_module_version": "1.5.0",
      "model_name": "FloatProgressModel",
      "state": {
       "bar_style": "success",
       "layout": "IPY_MODEL_344eceeb2d8142408efb9bdeee4e6658",
       "max": 423,
       "style": "IPY_MODEL_2eb7e59586584f8cb2bd11ef7f06b667",
       "value": 423
      }
     },
     "b9eea30bbe4647a887c35be48b86ccff": {
      "model_module": "@jupyter-widgets/controls",
      "model_module_version": "1.5.0",
      "model_name": "ProgressStyleModel",
      "state": {
       "description_width": ""
      }
     },
     "ba330a670f7d4dcb9220f147c5033640": {
      "model_module": "@jupyter-widgets/base",
      "model_module_version": "1.2.0",
      "model_name": "LayoutModel",
      "state": {}
     },
     "bd9296e662644d83baae84be55345ed5": {
      "model_module": "@jupyter-widgets/base",
      "model_module_version": "1.2.0",
      "model_name": "LayoutModel",
      "state": {}
     },
     "c3edc16239a64c47888c08f0db2c85ff": {
      "model_module": "@jupyter-widgets/base",
      "model_module_version": "1.2.0",
      "model_name": "LayoutModel",
      "state": {}
     },
     "c45b9195ac174b5fb51170931ecd4452": {
      "model_module": "@jupyter-widgets/controls",
      "model_module_version": "1.5.0",
      "model_name": "DescriptionStyleModel",
      "state": {
       "description_width": ""
      }
     },
     "c46e8553aaa44c1d96b6ec60e0aa7abe": {
      "model_module": "@jupyter-widgets/base",
      "model_module_version": "1.2.0",
      "model_name": "LayoutModel",
      "state": {}
     },
     "c878c7232a1a4917912883e8e2e743f9": {
      "model_module": "@jupyter-widgets/base",
      "model_module_version": "1.2.0",
      "model_name": "LayoutModel",
      "state": {}
     },
     "c8bca55a07e34d34831625b3b22bcd93": {
      "model_module": "@jupyter-widgets/controls",
      "model_module_version": "1.5.0",
      "model_name": "ProgressStyleModel",
      "state": {
       "description_width": ""
      }
     },
     "c8e8e67b95f34f7a934b644123bdc334": {
      "model_module": "@jupyter-widgets/base",
      "model_module_version": "1.2.0",
      "model_name": "LayoutModel",
      "state": {}
     },
     "cae5ed4c5e2f4b649da1f9b7583f43b6": {
      "model_module": "@jupyter-widgets/controls",
      "model_module_version": "1.5.0",
      "model_name": "ProgressStyleModel",
      "state": {
       "description_width": ""
      }
     },
     "d0710899f53841cea06a650a98dd53f9": {
      "model_module": "@jupyter-widgets/controls",
      "model_module_version": "1.5.0",
      "model_name": "DescriptionStyleModel",
      "state": {
       "description_width": ""
      }
     },
     "d256cff422754fb9ad93dd62962b9eb2": {
      "model_module": "@jupyter-widgets/controls",
      "model_module_version": "1.5.0",
      "model_name": "ProgressStyleModel",
      "state": {
       "description_width": ""
      }
     },
     "d4713d87238a4ca2b42456efa5e266c8": {
      "model_module": "@jupyter-widgets/base",
      "model_module_version": "1.2.0",
      "model_name": "LayoutModel",
      "state": {}
     },
     "d4efeea181e44c2c88ab888eb354cc86": {
      "model_module": "@jupyter-widgets/controls",
      "model_module_version": "1.5.0",
      "model_name": "DescriptionStyleModel",
      "state": {
       "description_width": ""
      }
     },
     "d5515dfa863643afbcf3bc63262c4138": {
      "model_module": "@jupyter-widgets/controls",
      "model_module_version": "1.5.0",
      "model_name": "DescriptionStyleModel",
      "state": {
       "description_width": ""
      }
     },
     "d6cde6cd066c481bb011a13fcd7966a9": {
      "model_module": "@jupyter-widgets/controls",
      "model_module_version": "1.5.0",
      "model_name": "HTMLModel",
      "state": {
       "layout": "IPY_MODEL_93ddf965455345809f3f9bed04d5715f",
       "style": "IPY_MODEL_40fba3dea07e4aeeaa5f637ff5dc74a4",
       "value": " 423/423 [00:50&lt;00:00,  8.36it/s]"
      }
     },
     "d73df44d19b9466984e750e4d59f910a": {
      "model_module": "@jupyter-widgets/base",
      "model_module_version": "1.2.0",
      "model_name": "LayoutModel",
      "state": {}
     },
     "da9d051e533f45d2a1f92cd06d3d4f37": {
      "model_module": "@jupyter-widgets/controls",
      "model_module_version": "1.5.0",
      "model_name": "FloatProgressModel",
      "state": {
       "bar_style": "success",
       "layout": "IPY_MODEL_dde253faa8e04efba26cb925578988f4",
       "max": 425,
       "style": "IPY_MODEL_717d4654b06746f3a8cf4c9d22e36579",
       "value": 425
      }
     },
     "dc4d8fecbffe4d6eae8491377004b155": {
      "model_module": "@jupyter-widgets/controls",
      "model_module_version": "1.5.0",
      "model_name": "HBoxModel",
      "state": {
       "children": [
        "IPY_MODEL_952deecfc75b414fb7b69d2916d6b5ff",
        "IPY_MODEL_b9820c9eede64170ab9a2c81467f2e93",
        "IPY_MODEL_a9a064a9263649e1aceadc8604241a8e"
       ],
       "layout": "IPY_MODEL_9ba740e786f24e73a93c671750817d49"
      }
     },
     "dde253faa8e04efba26cb925578988f4": {
      "model_module": "@jupyter-widgets/base",
      "model_module_version": "1.2.0",
      "model_name": "LayoutModel",
      "state": {}
     },
     "e9b44f3d02ab429395bb415b2c0648a4": {
      "model_module": "@jupyter-widgets/controls",
      "model_module_version": "1.5.0",
      "model_name": "DescriptionStyleModel",
      "state": {
       "description_width": ""
      }
     },
     "f29cc64665964729a54c9f413bbf6353": {
      "model_module": "@jupyter-widgets/controls",
      "model_module_version": "1.5.0",
      "model_name": "DescriptionStyleModel",
      "state": {
       "description_width": ""
      }
     },
     "f3b2f70d3b2b4a99be2ef7776de584fe": {
      "model_module": "@jupyter-widgets/base",
      "model_module_version": "1.2.0",
      "model_name": "LayoutModel",
      "state": {}
     },
     "f46dbfcbf0024f49bf1579d8a11e0f85": {
      "model_module": "@jupyter-widgets/controls",
      "model_module_version": "1.5.0",
      "model_name": "HTMLModel",
      "state": {
       "layout": "IPY_MODEL_83f9aa50f8504d95a78595cdf9aa4c03",
       "style": "IPY_MODEL_32fe20c519c44ef29cf405e584fc18eb",
       "value": " 40/40 [00:04&lt;00:00,  8.26it/s]"
      }
     },
     "f6edf6d5c99945dbaed7f543c6121337": {
      "model_module": "@jupyter-widgets/controls",
      "model_module_version": "1.5.0",
      "model_name": "FloatProgressModel",
      "state": {
       "bar_style": "success",
       "layout": "IPY_MODEL_692b46417e5348568bb164e23b7fe83d",
       "max": 10,
       "style": "IPY_MODEL_d256cff422754fb9ad93dd62962b9eb2",
       "value": 10
      }
     },
     "f788ca274ec446d0aa5e1e6a2e08c361": {
      "model_module": "@jupyter-widgets/controls",
      "model_module_version": "1.5.0",
      "model_name": "DescriptionStyleModel",
      "state": {
       "description_width": ""
      }
     },
     "f7f42283509640238bc9d52e4199561c": {
      "model_module": "@jupyter-widgets/controls",
      "model_module_version": "1.5.0",
      "model_name": "DescriptionStyleModel",
      "state": {
       "description_width": ""
      }
     },
     "f834054384304850a1486fe04fcef090": {
      "model_module": "@jupyter-widgets/controls",
      "model_module_version": "1.5.0",
      "model_name": "ProgressStyleModel",
      "state": {
       "description_width": ""
      }
     },
     "fd94fd8192a2431caf636ea423f26fa7": {
      "model_module": "@jupyter-widgets/controls",
      "model_module_version": "1.5.0",
      "model_name": "FloatProgressModel",
      "state": {
       "bar_style": "success",
       "layout": "IPY_MODEL_4b8a118953d9493f893400edc803cc90",
       "max": 8,
       "style": "IPY_MODEL_6b9944753dbc40b0ac586fb4596ac1d9",
       "value": 8
      }
     }
    },
    "version_major": 2,
    "version_minor": 0
   }
  }
 },
 "nbformat": 4,
 "nbformat_minor": 4
}
